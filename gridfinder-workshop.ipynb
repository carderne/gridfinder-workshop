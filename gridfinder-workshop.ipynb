{
 "cells": [
  {
   "cell_type": "markdown",
   "metadata": {},
   "source": [
    "# GRIDFINDER WORKSHOP\n",
    "\n",
    "This notebook will guide you through the use of the _gridfinder_ model to create predictions on the location of medium-voltage grid lines in a given country, based on night-time lights data and OpenStreetMap road networks. This version has been simplified for the workshop.\n",
    "\n",
    "**Note: <font color='blue'>Important instructions are in blue (but read everything!).</font>**\n",
    "\n",
    "For more information, please see:\n",
    "- https://github.com/carderne/gridfinder\n",
    "- http://blogs.worldbank.org/energy/using-night-lights-map-electrical-grid-infrastructure\n",
    "- https://engineering.fb.com/connectivity/electrical-grid-mapping/"
   ]
  },
  {
   "cell_type": "markdown",
   "metadata": {},
   "source": [
    "# 1. Data Preparation\n",
    "## 1.a. Import necessary Modules\n",
    "If this fails, you may need to install additional modules."
   ]
  },
  {
   "cell_type": "markdown",
   "metadata": {},
   "source": [
    "The first group is stanard Python library imports"
   ]
  },
  {
   "cell_type": "code",
   "execution_count": null,
   "metadata": {},
   "outputs": [],
   "source": [
    "import os\n",
    "import sys\n",
    "from pathlib import Path"
   ]
  },
  {
   "cell_type": "markdown",
   "metadata": {},
   "source": [
    "The second group is third-party libraries"
   ]
  },
  {
   "cell_type": "code",
   "execution_count": null,
   "metadata": {},
   "outputs": [],
   "source": [
    "import matplotlib.pyplot as plt\n",
    "from matplotlib import cm\n",
    "from mpl_toolkits.mplot3d import Axes3D\n",
    "import matplotlib.animation as animation\n",
    "import seaborn as sns\n",
    "from IPython.display import display, Markdown\n",
    "import numpy as np\n",
    "import rasterio\n",
    "from rasterstats import zonal_stats\n",
    "import geopandas as gpd\n",
    "import folium\n",
    "import branca"
   ]
  },
  {
   "cell_type": "markdown",
   "metadata": {},
   "source": [
    "And for the gridfinder imports, we first ensure that `gridfinder/` is in the Python path"
   ]
  },
  {
   "cell_type": "code",
   "execution_count": null,
   "metadata": {},
   "outputs": [],
   "source": [
    "sys.path.append(\"gridfinder\")\n",
    "import gridfinder as gf\n",
    "print(\"All imports working!\")"
   ]
  },
  {
   "cell_type": "markdown",
   "metadata": {},
   "source": [
    "This is just a bit of code to make our raster plots nicer:"
   ]
  },
  {
   "cell_type": "code",
   "execution_count": null,
   "metadata": {},
   "outputs": [],
   "source": [
    "def imshow(image, **kwargs):\n",
    "    fig, ax = plt.subplots(figsize=(6, 6))\n",
    "    ax.imshow(image, **kwargs)\n",
    "    ax.axis(\"off\")\n",
    "\n",
    "def plot_multi(polys, titles):\n",
    "    num = len(polys)\n",
    "    colors = [\"blue\", \"red\", \"green\"]\n",
    "    fig, axes = plt.subplots(ncols=num, figsize=(15,5))\n",
    "    for p, t, c, ax in zip(polys, titles, colors, axes):\n",
    "        p.plot(ax=ax, color=c, edgecolor=\"white\")\n",
    "        ax.set_title(t)\n",
    "        ax.axis(\"off\")\n",
    "        \n",
    "def plot_3d(image):\n",
    "    X = np.fromfunction(lambda i, j: i, image.shape)\n",
    "    Y = np.fromfunction(lambda i, j: j, image.shape)\n",
    "    fig = plt.figure()\n",
    "    sns.set()\n",
    "    ax = fig.gca(projection='3d')\n",
    "    ax.plot_surface(X, Y, image, cmap=cm.coolwarm, linewidth=0, antialiased=False)"
   ]
  },
  {
   "cell_type": "markdown",
   "metadata": {},
   "source": [
    "## 1.b. Set parameters\n",
    "Basic parameters used to run the model"
   ]
  },
  {
   "cell_type": "code",
   "execution_count": null,
   "metadata": {},
   "outputs": [],
   "source": [
    "# The country name here must match the names used in the \"data\" folder.\n",
    "country = \"kenya\""
   ]
  },
  {
   "cell_type": "markdown",
   "metadata": {},
   "source": [
    "## 1.c. Set folder paths"
   ]
  },
  {
   "cell_type": "code",
   "execution_count": null,
   "metadata": {},
   "outputs": [],
   "source": [
    "# These are the input data sources\n",
    "data = Path(\"data\")\n",
    "aoi_in = data / f\"{country}.gpkg\"\n",
    "roads_in = data / \"roads.gpkg\"\n",
    "ntl_in = data / \"ntl.tif\""
   ]
  },
  {
   "cell_type": "code",
   "execution_count": null,
   "metadata": {},
   "outputs": [],
   "source": [
    "# These are the intermediate output file paths\n",
    "outputs = Path(\"outputs\")\n",
    "ntl_clipped_out = outputs / \"ntl_clipped.tif\"\n",
    "ntl_thresh_out = outputs / \"ntl_thresh.tif\"\n",
    "targets_out = outputs / \"targets.tif\"\n",
    "roads_out = outputs / \"roads.tif\"\n",
    "dist_out = outputs / \"dist.tif\"\n",
    "guess_out = outputs / \"guess.tif\""
   ]
  },
  {
   "cell_type": "code",
   "execution_count": null,
   "metadata": {},
   "outputs": [],
   "source": [
    "# These are the final output files\n",
    "guess_skeletonized_out = outputs / \"guess_skel.tif\"\n",
    "guess_vec_out = outputs / \"guess.gpkg\"\n",
    "animate_out = outputs / \"animated\""
   ]
  },
  {
   "cell_type": "markdown",
   "metadata": {},
   "source": [
    "# 2. Geoprocessing and Algorithm Tuning"
   ]
  },
  {
   "cell_type": "markdown",
   "metadata": {},
   "source": [
    "## 2.a. Clip night-time lights\n",
    "In this step, we clip the night-time lights."
   ]
  },
  {
   "cell_type": "markdown",
   "metadata": {},
   "source": [
    "First, we read in the AOI (area of interest) for our specified country. These are stored in individual GeoPackages (a type of vector data file) for each country. We read them in using [GeoPandas](http://geopandas.org/) (aliased to `gpd`), which is an easy Python library for dealing with vector data, built on top of the well-known Pandas library.\n",
    "\n",
    "These files contain sub-national boundaries, so we use `dissolve` to convert it into a single boundary for the whole country."
   ]
  },
  {
   "cell_type": "code",
   "execution_count": null,
   "metadata": {},
   "outputs": [],
   "source": [
    "aoi = gpd.read_file(aoi_in)\n",
    "aoi_diss = aoi.dissolve(by=\"admin\")\n",
    "print(\"Dissolved\")"
   ]
  },
  {
   "cell_type": "markdown",
   "metadata": {},
   "source": [
    "Then, before we start using our AOI on the raster imagery, we `buffer` it a little. This is to ensure that we don't get any \"edge effects\" like distortions on the boundaries."
   ]
  },
  {
   "cell_type": "markdown",
   "metadata": {},
   "source": [
    "<font color='blue'>You will need to chose a distance for the buffer method. About 0.1 degrees should be enough.</font>"
   ]
  },
  {
   "cell_type": "code",
   "execution_count": null,
   "metadata": {},
   "outputs": [],
   "source": [
    "buff = aoi_diss.copy()\n",
    "buff.geometry = aoi_diss.buffer()\n",
    "print(\"Buffered\")"
   ]
  },
  {
   "cell_type": "markdown",
   "metadata": {},
   "source": [
    "Let's have a look at the three GeoDataFrames that we now have."
   ]
  },
  {
   "cell_type": "code",
   "execution_count": null,
   "metadata": {},
   "outputs": [],
   "source": [
    "plot_multi([aoi, aoi_diss, buff], [\"Original\", \"Dissolved\", \"Buffered\"])"
   ]
  },
  {
   "cell_type": "markdown",
   "metadata": {},
   "source": [
    "Finally we're ready to clip the night-time lights raster (which is provided as a single file for all of our countries. Have a look at lines 94-148 in [gridfinder/_util.py](files/gridfinder/gridfinder/_util.py) to see the code for clipping. It used GeoPandas to extract the geometry, and then [Rasterio](https://rasterio.readthedocs.io/en/stable/) to mask the night-time lights raster.\n",
    "\n",
    "In this process, we get three results:\n",
    "- A 2D numpy array containing the values\n",
    "- An 'affine' transformation, those mathematically shows how these values translate to real world coordinates\n",
    "- a CRS (Coordinate Reference System) defining the geographical reference being used. Typically this is EPSG:4326, which the WGS84 system (using degrees latitude and longitude, and is the most commond system for unprojected data)"
   ]
  },
  {
   "cell_type": "code",
   "execution_count": null,
   "metadata": {},
   "outputs": [],
   "source": [
    "ntl_clipped, affine, crs = gf.clip_raster(\n",
    "    raster=ntl_in,\n",
    "    boundary=buff,\n",
    ")\n",
    "print(\"Shape:\", ntl_clipped.shape)\n",
    "print(\"Affine transformation matrix:\\n\", affine)\n",
    "print(\"Coordinate reference system:\", crs)"
   ]
  },
  {
   "cell_type": "markdown",
   "metadata": {},
   "source": [
    "Then we simply save the raster (see the code in lines 19-54 in [gridfinder/_util.py](files/gridfinder/gridfinder/_util.py)."
   ]
  },
  {
   "cell_type": "code",
   "execution_count": null,
   "metadata": {},
   "outputs": [],
   "source": [
    "gf.save_raster(\n",
    "    path=ntl_clipped_out,\n",
    "    raster=ntl_clipped,\n",
    "    affine=affine,\n",
    "    crs=crs,\n",
    "    nodata=None,\n",
    ")\n",
    "print(\"Raster saved!\")"
   ]
  },
  {
   "cell_type": "markdown",
   "metadata": {},
   "source": [
    "## 2.b. Filter night-time lights\n",
    "Now we're ready to do something with our clipped night-time lights!\n",
    "\n",
    "First, we create a filter that is used to highlight areas of the night-time lights that are significantly brighter that their surroundings. The filter is of the form:  "
   ]
  },
  {
   "cell_type": "code",
   "execution_count": null,
   "metadata": {},
   "outputs": [],
   "source": [
    "# f = 1/(1+|d|)^3, where d != 0\n",
    "# f = 0          , where d == 0"
   ]
  },
  {
   "cell_type": "markdown",
   "metadata": {},
   "source": [
    "where *d* is that pixel's distance from a given square's centroid. The filter is normalised so that sum(f) == 0, and then it is subtracted from the original image. To see the code, please see lines 106-126 in [gridfinder/prepare.py](files/gridfinder/gridfinder/prepare.py). The filter created is actually a 2D array of values with 41 rows and 41 columns."
   ]
  },
  {
   "cell_type": "code",
   "execution_count": null,
   "metadata": {},
   "outputs": [],
   "source": [
    "ntl_filter = gf.create_filter()\n",
    "print(\"Shape:\", ntl_filter.shape)"
   ]
  },
  {
   "cell_type": "markdown",
   "metadata": {},
   "source": [
    "The following code is purely to make a visualiztion of the 2D filter."
   ]
  },
  {
   "cell_type": "code",
   "execution_count": null,
   "metadata": {},
   "outputs": [],
   "source": [
    "plot_3d(ntl_filter)"
   ]
  },
  {
   "cell_type": "markdown",
   "metadata": {},
   "source": [
    "Then, we apply that filter to every location in our clipped night-time lights raster. This function `prepare_ntl` can be found in lines 129-212 in [gridfinder/prepare.py](files/gridfinder/gridfinder/prepare.py). It does two main things:\n",
    "- Apply the filter to the raster\n",
    "- Resample the raster to a higher or lower resolution\n",
    "\n",
    "In this workshop we want things to go quickly, so we keep a lower resolution. But for better results, we could operate at a much higher resolution! (Note: higher resolution doesn't automatically mean better, and we can't _add_ any detail to the raster, but some of the later steps can definitely benefit from a higher resolution.)"
   ]
  },
  {
   "cell_type": "markdown",
   "metadata": {},
   "source": [
    "But first we need to discuss two important parameters to the `prepare_ntl` function! Firstly, `threshold`: this is applied _after_ filtering, and values above this are considered electrified. If you change this value, the results will probably not be great, but feel free to experiment!\n",
    "\n",
    "Then there is the `upsample_by`, which controls the resolution. A positive value creates a higher resolution, and vice-versa. If the model takes too long to run, you could try lowering this (e.g. to 0.5)."
   ]
  },
  {
   "cell_type": "markdown",
   "metadata": {},
   "source": [
    "<font color='blue'>Make sure to enter the values for threshold and upsample_by. To start with, threshold should be between 0.0 and 0.2 and upsaple_by can be between 0.2 and 2.</font>"
   ]
  },
  {
   "cell_type": "code",
   "execution_count": null,
   "metadata": {},
   "outputs": [],
   "source": [
    "ntl_thresh, affine = gf.prepare_ntl(\n",
    "    ntl_in=ntl_clipped_out,\n",
    "    aoi_in=buff,\n",
    "    ntl_filter=ntl_filter,\n",
    "    threshold=,\n",
    "    upsample_by=,\n",
    ")\n",
    "gf.save_raster(ntl_thresh_out, ntl_thresh, affine)"
   ]
  },
  {
   "cell_type": "markdown",
   "metadata": {},
   "source": [
    "Remember when we buffered our AOI earlier? Now that we're done with the risk of edge-effects, it's time to clip our raster to the original `aoi_diss` polygon for our country."
   ]
  },
  {
   "cell_type": "code",
   "execution_count": null,
   "metadata": {},
   "outputs": [],
   "source": [
    "targets, affine, _ = gf.clip_raster(\n",
    "    raster=ntl_thresh_out,\n",
    "    boundary=aoi_diss,\n",
    ")\n",
    "gf.save_raster(targets_out, targets, affine)\n",
    "print(\"Targets prepared\")"
   ]
  },
  {
   "cell_type": "markdown",
   "metadata": {},
   "source": [
    "Then we show what our results look like. In theory, each white pixel is a location with electricity access!"
   ]
  },
  {
   "cell_type": "code",
   "execution_count": null,
   "metadata": {
    "scrolled": false
   },
   "outputs": [],
   "source": [
    "imshow(targets, cmap=\"gray\")"
   ]
  },
  {
   "cell_type": "markdown",
   "metadata": {},
   "source": [
    "## 2.c. Roads: assign values, clip and rasterize\n",
    "We take the raw roads data from OSM and assign different 'costs' to different classes of roads. This means the algorithm will prefer to follow larger roads (motorways) over smaller roads or empty land.\n",
    "\n",
    "The code for `prepare_roads` is in lines 308-374 of [gridfinder/prepare.py)[files/gridfinder/gridfinder/prepare.py).\n",
    "\n",
    "We have to supply `targets_out` (our electrification targets from above) to the function, so that it knows to make sure that the roads_raster is _exactly_ the same shape as our targets."
   ]
  },
  {
   "cell_type": "markdown",
   "metadata": {},
   "source": [
    "<font color='blue'>Decide whether or not power lines should be included. True is probably best, unless you don't think the OSM power line data is any good (then set it to False)!</font>"
   ]
  },
  {
   "cell_type": "code",
   "execution_count": null,
   "metadata": {},
   "outputs": [],
   "source": [
    "roads_raster, affine = gf.prepare_roads(\n",
    "    roads_in=roads_in,\n",
    "    aoi_in=aoi_in,\n",
    "    ntl_in=targets_out,\n",
    "    include_power=,\n",
    ")"
   ]
  },
  {
   "cell_type": "code",
   "execution_count": null,
   "metadata": {},
   "outputs": [],
   "source": [
    "print(\"Targets raster shape:\", targets.shape)\n",
    "print(\"Costs raster shape:\", roads_raster.shape)"
   ]
  },
  {
   "cell_type": "markdown",
   "metadata": {},
   "source": [
    "As before, we save our work. The image below should show a faint outline of the roads values we've just created. The darker a pixel is, the cheaper it is to cross it."
   ]
  },
  {
   "cell_type": "code",
   "execution_count": null,
   "metadata": {},
   "outputs": [],
   "source": [
    "gf.save_raster(roads_out, roads_raster, affine, nodata=-1)\n",
    "print(\"Costs prepared\")\n",
    "imshow(roads_raster, cmap='Reds_r', vmin=0, vmax=1)"
   ]
  },
  {
   "cell_type": "markdown",
   "metadata": {},
   "source": [
    "## 2.d. Get targets and costs and run algorithm"
   ]
  },
  {
   "cell_type": "markdown",
   "metadata": {},
   "source": [
    "This function simply loads the rasters that we've created, and gets the `start` point: this is just the first point (closest to top-left) that contains an electrified location. The gridfinder algorithm will start there."
   ]
  },
  {
   "cell_type": "code",
   "execution_count": null,
   "metadata": {},
   "outputs": [],
   "source": [
    "targets, costs, start, affine = gf.get_targets_costs(\n",
    "    targets_out,\n",
    "    roads_out,\n",
    ")"
   ]
  },
  {
   "cell_type": "markdown",
   "metadata": {},
   "source": [
    "Finally! This is the most interesting part of the whole process. Here we use our modified Dijkstra minimum-spanning tree to start at `start` and recursively search for points to electrify.\n",
    "\n",
    "The code is in lines 91-229 of [gridfinder/gridfinder.py](files/gridfinder/gridfinder/gridfinder.py).\n",
    "\n",
    "This might take a little while. If it takes too long, go back and change the `upsample_by` parameter in `prepare_ntl` to something less than 1 (try 0.5 or even less)."
   ]
  },
  {
   "cell_type": "markdown",
   "metadata": {},
   "source": [
    "<font color='blue'>You can set aniamte to True if you want to get a sequence of images in the outputs/animated subfolder showing modelling progress.</font>"
   ]
  },
  {
   "cell_type": "code",
   "execution_count": null,
   "metadata": {},
   "outputs": [],
   "source": [
    "dist = gf.optimise(\n",
    "    targets=targets,\n",
    "    costs=costs,\n",
    "    start=start,\n",
    "    jupyter=True,\n",
    "    animate=False,\n",
    "    affine=affine,\n",
    "    animate_path=animate_out,\n",
    ")\n",
    "print(\"Done!\")"
   ]
  },
  {
   "cell_type": "markdown",
   "metadata": {},
   "source": [
    "And again, we save and display the results. The darker blues areas are the areas more likely to be grid locations."
   ]
  },
  {
   "cell_type": "markdown",
   "metadata": {},
   "source": [
    "<font color='blue'>Play with the vmax value below to make get a good visualization of the model results.</font>**"
   ]
  },
  {
   "cell_type": "code",
   "execution_count": null,
   "metadata": {
    "scrolled": false
   },
   "outputs": [],
   "source": [
    "gf.save_raster(dist_out, dist, affine)\n",
    "imshow(dist, cmap=\"Blues_r\", vmin=0, vmax=)"
   ]
  },
  {
   "cell_type": "markdown",
   "metadata": {},
   "source": [
    "# 3. Visualizing Results\n",
    "## 3.a. Filter dist results to grid guess\n",
    "Then from this result, we extract the locations below the given cutoff. These are assumed to be locations that have MV infrastructure."
   ]
  },
  {
   "cell_type": "markdown",
   "metadata": {},
   "source": [
    "<font color='blue'>First, we choose a cutoff value. Values <= this will be considered to be actual medium-voltage grid lines. Should probably be 0.0. You can try a higher value, but you might lose a lot of grid! You can see the code for this in lines 30-66 of [gridfinder/post.py](files/gridfinder/gridfinder/post.py).</font>"
   ]
  },
  {
   "cell_type": "code",
   "execution_count": null,
   "metadata": {},
   "outputs": [],
   "source": [
    "guess, affine = gf.threshold(\n",
    "    dist_out,\n",
    "    cutoff=,\n",
    ")\n",
    "gf.save_raster(guess_out, guess, affine)\n",
    "print(\"Cutoff applied!\")"
   ]
  },
  {
   "cell_type": "markdown",
   "metadata": {},
   "source": [
    "The result from this still has lots of big blobs, but we only want lines. So we _skeletonize_ it: that is, we thin out the blobs so only lines remain. This in lines 69-103 of [gridfinder/post.py](files/gridfinder/gridfinder/post.py) and is basically just a wrapper of a [skimage.morphology.skeletonize](https://scikit-image.org/docs/dev/api/skimage.morphology#skimage.morphology.skeletonize)."
   ]
  },
  {
   "cell_type": "code",
   "execution_count": null,
   "metadata": {},
   "outputs": [],
   "source": [
    "guess_skel, affine = gf.thin(guess_out)\n",
    "gf.save_raster(guess_skeletonized_out, guess_skel, affine)"
   ]
  },
  {
   "cell_type": "markdown",
   "metadata": {},
   "source": [
    "Once again, ket's see what it looks like."
   ]
  },
  {
   "cell_type": "code",
   "execution_count": null,
   "metadata": {},
   "outputs": [],
   "source": [
    "print(\"Got guess and skeletonized\")\n",
    "imshow(guess_skel, cmap=\"gray_r\")"
   ]
  },
  {
   "cell_type": "markdown",
   "metadata": {},
   "source": [
    "## 3.c. Convert to geometry\n",
    "To make it easier to work with, we convert this raster result into a vector. A raster after all is just a 2D array of values, which doesn't make sense or a bunch of _lines_. So we convert it into a vector line geometry.\n",
    "\n",
    "First of all we use `raster_to_lines`, which comes from lines 106-174 of [gridfinder/post.py](files/gridfinder/gridfinder/post.py). This is a pretty complicated function, but basically it loops through the raster, looking for grid cells that are connected and converting them into geometry.\n",
    "\n",
    "Note that we're assigning it the EPSG:4326 coordinate reference system again."
   ]
  },
  {
   "cell_type": "code",
   "execution_count": null,
   "metadata": {},
   "outputs": [],
   "source": [
    "mv = gf.raster_to_lines(guess_skeletonized_out)\n",
    "mv.crs = {\"init\": \"epsg:4326\"}\n",
    "print(\"Converted to geometry\")"
   ]
  },
  {
   "cell_type": "markdown",
   "metadata": {},
   "source": [
    "As always, we save and preview."
   ]
  },
  {
   "cell_type": "code",
   "execution_count": null,
   "metadata": {
    "scrolled": false
   },
   "outputs": [],
   "source": [
    "mv.to_file(guess_vec_out, driver=\"GPKG\")\n",
    "fig, ax = plt.subplots(figsize=(6,6))\n",
    "mv.plot(ax=ax)\n",
    "ax.axis('off')\n",
    "plt.show()"
   ]
  },
  {
   "cell_type": "markdown",
   "metadata": {},
   "source": [
    "That's very pretty, but it would be much nicer to see what it looks like overlaid on a real map. For that, we use a really great library called [folium](https://python-visualization.github.io/folium/) to create a JavaScript map without having to leave our notebook.\n",
    "\n",
    "Note you can zoom in, pan around and see if the result actually makes sense."
   ]
  },
  {
   "cell_type": "code",
   "execution_count": null,
   "metadata": {},
   "outputs": [],
   "source": [
    "minx, miny, maxx, maxy = list(mv.bounds.iloc[0])\n",
    "bounds = ((miny, minx), (maxy, maxx))\n",
    "\n",
    "m = folium.Map(control_scale=True)\n",
    "m.fit_bounds(bounds)\n",
    "folium.GeoJson(mv).add_to(m)\n",
    "m"
   ]
  },
  {
   "cell_type": "markdown",
   "metadata": {},
   "source": [
    "# 4. Applying zonal statitics\n",
    "Now it would be nice to learn a bit about the distribution of our distribution lines. We use something called 'zonal statistics': basically, statistics from our raster (like mean, sum, max, median...) but applied for separate zones. In this case, our zones are going to be the sub-national regions from our AOI.\n",
    "\n",
    "First we use the function `zonal_stats` from the library [rasterstats](https://github.com/perrygeo/python-rasterstats) to calculate these statistics. Note that the `vectors` parameter contains our zones, while the `raster` parameter contains the data to apply the statistics to."
   ]
  },
  {
   "cell_type": "markdown",
   "metadata": {},
   "source": [
    "<font color='blue'>The zonal_stats function takes a stats= parameter. This takes a string or list of strings specyfing the statistics we're looking for. In this case we just want to pass 'count'.</font>"
   ]
  },
  {
   "cell_type": "code",
   "execution_count": null,
   "metadata": {},
   "outputs": [],
   "source": [
    "stats = zonal_stats(\n",
    "    vectors=aoi,\n",
    "    raster=guess_skeletonized_out,\n",
    "    affine=affine,\n",
    "    stats=,\n",
    ")\n",
    "print(\"Calculated zonal stats\")"
   ]
  },
  {
   "cell_type": "markdown",
   "metadata": {},
   "source": [
    "Now let's insert these into our AOI GeoDataFrame from before."
   ]
  },
  {
   "cell_type": "markdown",
   "metadata": {},
   "source": [
    "<font color='blue'>If you want to see more lines, change the 2 value in the .head() method to something larger.</font>"
   ]
  },
  {
   "cell_type": "code",
   "execution_count": null,
   "metadata": {},
   "outputs": [],
   "source": [
    "aoi[\"count_mv\"] = [int(s[\"count\"]) for s in stats]\n",
    "print(\"Let's see the results.\")\n",
    "aoi[[\"admin\", \"name\", \"count_mv\"]].head(2)"
   ]
  },
  {
   "cell_type": "markdown",
   "metadata": {},
   "source": [
    "That's fine, but the results simply show the number of MV cells in each zone. We want to know the kilometres of MV-lines! To do that, there a few steps. First we need to know that our affine transformation (from earlier) contains the pixel width as its first element. Voila:"
   ]
  },
  {
   "cell_type": "code",
   "execution_count": null,
   "metadata": {},
   "outputs": [],
   "source": [
    "width_deg = affine[0]\n",
    "print('Pixel width in degrees:', width_deg)"
   ]
  },
  {
   "cell_type": "markdown",
   "metadata": {},
   "source": [
    "However, this is in degrees, not kilometres! The real solution would take into account the fact that degrees are not the same size everywhere, but let's take an easier way. At the equator, 1 degree is roughly equal to 100km. Therefore:"
   ]
  },
  {
   "cell_type": "markdown",
   "metadata": {},
   "source": [
    "<font color='blue'>We need to multiply width_deg by 100.</font>"
   ]
  },
  {
   "cell_type": "code",
   "execution_count": null,
   "metadata": {},
   "outputs": [],
   "source": [
    "width = width_deg * \n",
    "print(width)"
   ]
  },
  {
   "cell_type": "markdown",
   "metadata": {},
   "source": [
    "Now we can multiple this value across our GeoDataFrame to get the length of MV lines in each cell"
   ]
  },
  {
   "cell_type": "code",
   "execution_count": null,
   "metadata": {},
   "outputs": [],
   "source": [
    "aoi[\"mv_length_km\"] = aoi[\"count_mv\"] * width\n",
    "aoi[[\"admin\", \"name\", \"count_mv\", \"mv_length_km\"]].head(4)"
   ]
  },
  {
   "cell_type": "markdown",
   "metadata": {},
   "source": [
    "Now let's put it on a map so we can see how it looks."
   ]
  },
  {
   "cell_type": "markdown",
   "metadata": {},
   "source": [
    "<font color='blue'>Choose calues for the style parameters below. fillOpacity should be between 0 and 1, weight can be any positive integer, color should be a string with a colour name (black, blue, red) or a hex code.</font>"
   ]
  },
  {
   "cell_type": "code",
   "execution_count": null,
   "metadata": {},
   "outputs": [],
   "source": [
    "colorscale = branca.colormap.linear.YlOrRd_09.scale(0, aoi[\"mv_length_km\"].max())\n",
    "colorscale.caption = \"Total MV per region\"\n",
    "def style_function(feature):\n",
    "    sum_mv = feature[\"properties\"][\"mv_length_km\"]\n",
    "    return {\n",
    "        \"fillOpacity\": ,\n",
    "        \"weight\": ,\n",
    "        \"color\": ,\n",
    "        \"fillColor\": colorscale(sum_mv)\n",
    "    }"
   ]
  },
  {
   "cell_type": "code",
   "execution_count": null,
   "metadata": {},
   "outputs": [],
   "source": [
    "m = folium.Map(control_scale=True)\n",
    "m.fit_bounds(bounds)\n",
    "folium.GeoJson(\n",
    "    aoi,\n",
    "    style_function=style_function,\n",
    ").add_to(m)\n",
    "\n",
    "m.add_child(colorscale)\n",
    "m"
   ]
  },
  {
   "cell_type": "markdown",
   "metadata": {},
   "source": [
    "# 5. Proximity to grid\n",
    "Finally for something even more interesting, let's use some population data to see what percentage of the population lives within a certain distance of the predicted grid."
   ]
  },
  {
   "cell_type": "markdown",
   "metadata": {},
   "source": [
    "Let's load our population data (which is for the whole of Africa) and see the total population in our selected country."
   ]
  },
  {
   "cell_type": "code",
   "execution_count": null,
   "metadata": {},
   "outputs": [],
   "source": [
    "# Load population data\n",
    "pop_in = data / \"ghs_africa.tif\""
   ]
  },
  {
   "cell_type": "markdown",
   "metadata": {},
   "source": [
    "<font color='blue'>Here you need to use zonal_stats() again. Since we want to calculate the total population for the selected country, the vector parameter should be our aoi_diss from earlier. The raster value should be pop_in that we just defined. And the stats parameter that we're looking for is the sum!\n",
    "\n",
    "You should be able to see from the value returned by zonal_stats() what you need to do to assign the population to pop_total so that the print statement below will work.</font>"
   ]
  },
  {
   "cell_type": "code",
   "execution_count": null,
   "metadata": {},
   "outputs": [],
   "source": [
    "# Enter your code here\n",
    "# Something like...\n",
    "# pop_stats = zonal_stats(...)\n",
    "# pop_total = pop_stats..."
   ]
  },
  {
   "cell_type": "code",
   "execution_count": null,
   "metadata": {},
   "outputs": [],
   "source": [
    "print(\"Total population:\", pop_total)"
   ]
  },
  {
   "cell_type": "markdown",
   "metadata": {},
   "source": [
    "Then we buffer the predicted MV grid by a set amount. First choose an amount"
   ]
  },
  {
   "cell_type": "code",
   "execution_count": null,
   "metadata": {},
   "outputs": [],
   "source": [
    "buff_dist =   # in km"
   ]
  },
  {
   "cell_type": "markdown",
   "metadata": {},
   "source": [
    "Now, remember that our vector is in degrees. To accurately buffer it by a certain number of kilometres, we should re-project it into a different CRS that uses metres or kilometres, do the buffer, and then re-project it back... To make it easier, we're going to do what we did before and remember that (at the equator), 1 degree is approximately 100 km."
   ]
  },
  {
   "cell_type": "markdown",
   "metadata": {},
   "source": [
    "<font color='blue'>Earlier to go from degrees to metres, we multipled by 100. Now to go from metres to degrees, we should multiply by...</font>"
   ]
  },
  {
   "cell_type": "code",
   "execution_count": null,
   "metadata": {},
   "outputs": [],
   "source": [
    "buff_dist_deg = buff_dist *   # approximate"
   ]
  },
  {
   "cell_type": "markdown",
   "metadata": {},
   "source": [
    "Then we're ready to bufer the geometry by the specified amount."
   ]
  },
  {
   "cell_type": "markdown",
   "metadata": {},
   "source": [
    "<font color='blue'>We use the buffer command again, using the buff_dist_deg value from above as the only parameter.</font>"
   ]
  },
  {
   "cell_type": "code",
   "execution_count": null,
   "metadata": {},
   "outputs": [],
   "source": [
    "mv_buff = mv.copy()\n",
    "mv_buff.geometry = mv_buff.buffer()"
   ]
  },
  {
   "cell_type": "markdown",
   "metadata": {},
   "source": [
    "<font color='blue'>And again we use zonal_stats() to calculate. Except this time the vectors should be our new mv_buff vector (these are the zones we're interested in), while the raster should still be the pop_in raster (the data about which we want statistics.). And again we want to calculate the sum!</font>"
   ]
  },
  {
   "cell_type": "code",
   "execution_count": null,
   "metadata": {},
   "outputs": [],
   "source": [
    "# Enter your code here\n",
    "# Something like...\n",
    "# mv_stats = zonal_stats(...)\n",
    "# pop_mv = mv_stats..."
   ]
  },
  {
   "cell_type": "code",
   "execution_count": null,
   "metadata": {},
   "outputs": [],
   "source": [
    "print(\"Calculated stats.\")"
   ]
  },
  {
   "cell_type": "markdown",
   "metadata": {},
   "source": [
    "And let's see what it looks like!\n",
    "\n",
    "<font color='blue'>If you used different variable names than pop_total, pop_mv and buff_dist, you'll have to modify these print statements!</font>"
   ]
  },
  {
   "cell_type": "code",
   "execution_count": null,
   "metadata": {},
   "outputs": [],
   "source": [
    "print(f\"Total population:\\t{pop_total:,.0f}\")\n",
    "print(f\"Population within {buff_dist} km:\\t{pop_mv:,.0f}\")\n",
    "print(f\"Percentage within {buff_dist} km:\\t{100*pop_mv/pop_total:.0f}%\")"
   ]
  },
  {
   "cell_type": "markdown",
   "metadata": {},
   "source": [
    "# 6. Finished!\n",
    "Feel free to play around with different parameters, or dig into the gridfinder code and change anything you want. There's a very good chance you'll find bugs or have ideas for improvement.\n",
    "\n",
    "If so, you're very welcome to submit issues and pull requests at the official gridfinder repo: https://github.com/carderne/gridfinder"
   ]
  },
  {
   "cell_type": "markdown",
   "metadata": {},
   "source": [
    "Many thanks from the team:\n",
    "- Christopher Arderne\n",
    "- Kadeem Khan\n",
    "- Damon Civin"
   ]
  },
  {
   "cell_type": "code",
   "execution_count": null,
   "metadata": {},
   "outputs": [],
   "source": []
  }
 ],
 "metadata": {
  "kernelspec": {
   "display_name": "Python 3",
   "language": "python",
   "name": "python3"
  },
  "language_info": {
   "codemirror_mode": {
    "name": "ipython",
    "version": 3
   },
   "file_extension": ".py",
   "mimetype": "text/x-python",
   "name": "python",
   "nbconvert_exporter": "python",
   "pygments_lexer": "ipython3",
   "version": "3.7.3"
  }
 },
 "nbformat": 4,
 "nbformat_minor": 2
}
